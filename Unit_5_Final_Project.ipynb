{
  "nbformat": 4,
  "nbformat_minor": 0,
  "metadata": {
    "colab": {
      "name": "Unit 5 Final Project",
      "provenance": [],
      "collapsed_sections": []
    },
    "kernelspec": {
      "name": "python3",
      "display_name": "Python 3"
    }
  },
  "cells": [
    {
      "cell_type": "code",
      "metadata": {
        "id": "YykhwORBRc4I",
        "colab_type": "code",
        "colab": {}
      },
      "source": [
        "import pandas as pd\n",
        "import numpy as np"
      ],
      "execution_count": null,
      "outputs": []
    },
    {
      "cell_type": "code",
      "metadata": {
        "id": "YzCJAROjP3HO",
        "colab_type": "code",
        "colab": {}
      },
      "source": [
        "bird_dino_df = pd.read_csv(\"/content/drive/My Drive/bird_dino_data.csv\")"
      ],
      "execution_count": null,
      "outputs": []
    },
    {
      "cell_type": "code",
      "metadata": {
        "id": "bO7SdRZwSPDr",
        "colab_type": "code",
        "colab": {
          "base_uri": "https://localhost:8080/",
          "height": 237
        },
        "outputId": "efa0b507-c063-44b8-89da-27c4e7ef2881"
      },
      "source": [
        "bird_dino_df.head()"
      ],
      "execution_count": null,
      "outputs": [
        {
          "output_type": "execute_result",
          "data": {
            "text/html": [
              "<div>\n",
              "<style scoped>\n",
              "    .dataframe tbody tr th:only-of-type {\n",
              "        vertical-align: middle;\n",
              "    }\n",
              "\n",
              "    .dataframe tbody tr th {\n",
              "        vertical-align: top;\n",
              "    }\n",
              "\n",
              "    .dataframe thead th {\n",
              "        text-align: right;\n",
              "    }\n",
              "</style>\n",
              "<table border=\"1\" class=\"dataframe\">\n",
              "  <thead>\n",
              "    <tr style=\"text-align: right;\">\n",
              "      <th></th>\n",
              "      <th>Species ID</th>\n",
              "      <th>Bird vs Dino</th>\n",
              "      <th>Body Mass (kg)</th>\n",
              "      <th>Olfactory bulbs (cm3)</th>\n",
              "      <th>Cerebrum (cm3)</th>\n",
              "      <th>Optic Lobes (cm3)</th>\n",
              "      <th>Cerebellum (cm3)</th>\n",
              "      <th>Brain Stem (cm3)</th>\n",
              "      <th>Brain Volume (cm3)</th>\n",
              "    </tr>\n",
              "  </thead>\n",
              "  <tbody>\n",
              "    <tr>\n",
              "      <th>0</th>\n",
              "      <td>1</td>\n",
              "      <td>B</td>\n",
              "      <td>0.02</td>\n",
              "      <td>0.009</td>\n",
              "      <td>1.53</td>\n",
              "      <td>0.20</td>\n",
              "      <td>0.16</td>\n",
              "      <td>0.06</td>\n",
              "      <td>1.96</td>\n",
              "    </tr>\n",
              "    <tr>\n",
              "      <th>1</th>\n",
              "      <td>2</td>\n",
              "      <td>B</td>\n",
              "      <td>1.26</td>\n",
              "      <td>0.006</td>\n",
              "      <td>16.81</td>\n",
              "      <td>2.84</td>\n",
              "      <td>1.70</td>\n",
              "      <td>0.68</td>\n",
              "      <td>22.04</td>\n",
              "    </tr>\n",
              "    <tr>\n",
              "      <th>2</th>\n",
              "      <td>3</td>\n",
              "      <td>B</td>\n",
              "      <td>2.18</td>\n",
              "      <td>0.026</td>\n",
              "      <td>11.08</td>\n",
              "      <td>1.95</td>\n",
              "      <td>0.89</td>\n",
              "      <td>1.15</td>\n",
              "      <td>15.10</td>\n",
              "    </tr>\n",
              "    <tr>\n",
              "      <th>3</th>\n",
              "      <td>4</td>\n",
              "      <td>D</td>\n",
              "      <td>0.25</td>\n",
              "      <td>0.050</td>\n",
              "      <td>0.41</td>\n",
              "      <td>0.16</td>\n",
              "      <td>0.09</td>\n",
              "      <td>0.12</td>\n",
              "      <td>0.83</td>\n",
              "    </tr>\n",
              "    <tr>\n",
              "      <th>4</th>\n",
              "      <td>5</td>\n",
              "      <td>B</td>\n",
              "      <td>0.01</td>\n",
              "      <td>0.003</td>\n",
              "      <td>1.57</td>\n",
              "      <td>0.20</td>\n",
              "      <td>0.34</td>\n",
              "      <td>0.08</td>\n",
              "      <td>2.19</td>\n",
              "    </tr>\n",
              "  </tbody>\n",
              "</table>\n",
              "</div>"
            ],
            "text/plain": [
              "   Species ID Bird vs Dino  ...  Brain Stem (cm3)  Brain Volume (cm3)\n",
              "0           1            B  ...              0.06                1.96\n",
              "1           2            B  ...              0.68               22.04\n",
              "2           3            B  ...              1.15               15.10\n",
              "3           4            D  ...              0.12                0.83\n",
              "4           5            B  ...              0.08                2.19\n",
              "\n",
              "[5 rows x 9 columns]"
            ]
          },
          "metadata": {
            "tags": []
          },
          "execution_count": 12
        }
      ]
    },
    {
      "cell_type": "code",
      "metadata": {
        "id": "M-t89bu9Tg8U",
        "colab_type": "code",
        "colab": {
          "base_uri": "https://localhost:8080/",
          "height": 35
        },
        "outputId": "8d9361a7-7cfe-4b26-9c21-c11717b9479f"
      },
      "source": [
        "len(bird_dino_df)"
      ],
      "execution_count": null,
      "outputs": [
        {
          "output_type": "execute_result",
          "data": {
            "text/plain": [
              "25"
            ]
          },
          "metadata": {
            "tags": []
          },
          "execution_count": 13
        }
      ]
    },
    {
      "cell_type": "code",
      "metadata": {
        "id": "Sq1bcHIqV8Eq",
        "colab_type": "code",
        "colab": {
          "base_uri": "https://localhost:8080/",
          "height": 237
        },
        "outputId": "12e88774-4161-4bac-cda5-bde7115247b1"
      },
      "source": [
        "#created two seperate data frames, one with bird and one with dino data\n",
        "df_bird = bird_dino_df.loc[bird_dino_df[\"Bird vs Dino\"] == \"B\"]\n",
        "df_dino = bird_dino_df.loc[bird_dino_df[\"Bird vs Dino\"] == \"D\"]\n",
        "df_bird.head()"
      ],
      "execution_count": null,
      "outputs": [
        {
          "output_type": "execute_result",
          "data": {
            "text/html": [
              "<div>\n",
              "<style scoped>\n",
              "    .dataframe tbody tr th:only-of-type {\n",
              "        vertical-align: middle;\n",
              "    }\n",
              "\n",
              "    .dataframe tbody tr th {\n",
              "        vertical-align: top;\n",
              "    }\n",
              "\n",
              "    .dataframe thead th {\n",
              "        text-align: right;\n",
              "    }\n",
              "</style>\n",
              "<table border=\"1\" class=\"dataframe\">\n",
              "  <thead>\n",
              "    <tr style=\"text-align: right;\">\n",
              "      <th></th>\n",
              "      <th>Species ID</th>\n",
              "      <th>Bird vs Dino</th>\n",
              "      <th>Body Mass (kg)</th>\n",
              "      <th>Olfactory bulbs (cm3)</th>\n",
              "      <th>Cerebrum (cm3)</th>\n",
              "      <th>Optic Lobes (cm3)</th>\n",
              "      <th>Cerebellum (cm3)</th>\n",
              "      <th>Brain Stem (cm3)</th>\n",
              "      <th>Brain Volume (cm3)</th>\n",
              "    </tr>\n",
              "  </thead>\n",
              "  <tbody>\n",
              "    <tr>\n",
              "      <th>0</th>\n",
              "      <td>1</td>\n",
              "      <td>B</td>\n",
              "      <td>0.02</td>\n",
              "      <td>0.009</td>\n",
              "      <td>1.53</td>\n",
              "      <td>0.20</td>\n",
              "      <td>0.16</td>\n",
              "      <td>0.06</td>\n",
              "      <td>1.96</td>\n",
              "    </tr>\n",
              "    <tr>\n",
              "      <th>1</th>\n",
              "      <td>2</td>\n",
              "      <td>B</td>\n",
              "      <td>1.26</td>\n",
              "      <td>0.006</td>\n",
              "      <td>16.81</td>\n",
              "      <td>2.84</td>\n",
              "      <td>1.70</td>\n",
              "      <td>0.68</td>\n",
              "      <td>22.04</td>\n",
              "    </tr>\n",
              "    <tr>\n",
              "      <th>2</th>\n",
              "      <td>3</td>\n",
              "      <td>B</td>\n",
              "      <td>2.18</td>\n",
              "      <td>0.026</td>\n",
              "      <td>11.08</td>\n",
              "      <td>1.95</td>\n",
              "      <td>0.89</td>\n",
              "      <td>1.15</td>\n",
              "      <td>15.10</td>\n",
              "    </tr>\n",
              "    <tr>\n",
              "      <th>4</th>\n",
              "      <td>5</td>\n",
              "      <td>B</td>\n",
              "      <td>0.01</td>\n",
              "      <td>0.003</td>\n",
              "      <td>1.57</td>\n",
              "      <td>0.20</td>\n",
              "      <td>0.34</td>\n",
              "      <td>0.08</td>\n",
              "      <td>2.19</td>\n",
              "    </tr>\n",
              "    <tr>\n",
              "      <th>7</th>\n",
              "      <td>8</td>\n",
              "      <td>B</td>\n",
              "      <td>0.90</td>\n",
              "      <td>0.234</td>\n",
              "      <td>5.95</td>\n",
              "      <td>0.99</td>\n",
              "      <td>0.96</td>\n",
              "      <td>0.55</td>\n",
              "      <td>8.68</td>\n",
              "    </tr>\n",
              "  </tbody>\n",
              "</table>\n",
              "</div>"
            ],
            "text/plain": [
              "   Species ID Bird vs Dino  ...  Brain Stem (cm3)  Brain Volume (cm3)\n",
              "0           1            B  ...              0.06                1.96\n",
              "1           2            B  ...              0.68               22.04\n",
              "2           3            B  ...              1.15               15.10\n",
              "4           5            B  ...              0.08                2.19\n",
              "7           8            B  ...              0.55                8.68\n",
              "\n",
              "[5 rows x 9 columns]"
            ]
          },
          "metadata": {
            "tags": []
          },
          "execution_count": 14
        }
      ]
    },
    {
      "cell_type": "code",
      "metadata": {
        "id": "MErAnVPeUI2z",
        "colab_type": "code",
        "colab": {}
      },
      "source": [
        "def brain_body(df, col1, col2): #finds brain to body ratio for dinos and birds\n",
        "  body = df[col1] #sets the values of the body col. to the variable body\n",
        "  brain = df[col2]#sets the values of the brain V col. to the variable brain\n",
        "  df_ave = (brain/body)/1000 #takes the quotient of the two columns and converts kg to g\n",
        "  return df_ave.mean() #finds the average of each brain/body ratio"
      ],
      "execution_count": null,
      "outputs": []
    },
    {
      "cell_type": "code",
      "metadata": {
        "id": "i_yJBIuXW-SM",
        "colab_type": "code",
        "colab": {
          "base_uri": "https://localhost:8080/",
          "height": 35
        },
        "outputId": "18867f5e-22ca-41e5-ad19-db1187b2fdd3"
      },
      "source": [
        "bird_brain_body = brain_body(df_bird, \"Body Mass (kg)\", \"Brain Volume (cm3)\")\n",
        "print(bird_brain_body)"
      ],
      "execution_count": null,
      "outputs": [
        {
          "output_type": "stream",
          "text": [
            "0.047832283820074345\n"
          ],
          "name": "stdout"
        }
      ]
    },
    {
      "cell_type": "code",
      "metadata": {
        "id": "q6mD4gVfXPBE",
        "colab_type": "code",
        "colab": {
          "base_uri": "https://localhost:8080/",
          "height": 35
        },
        "outputId": "23f4c17a-1fb5-458e-818e-0bd39928d55d"
      },
      "source": [
        "dino_brain_body = brain_body(df_dino, \"Body Mass (kg)\", \"Brain Volume (cm3)\")\n",
        "print(dino_brain_body)"
      ],
      "execution_count": null,
      "outputs": [
        {
          "output_type": "stream",
          "text": [
            "0.0016106496539985663\n"
          ],
          "name": "stdout"
        }
      ]
    },
    {
      "cell_type": "code",
      "metadata": {
        "id": "WNeLgCHwdBKs",
        "colab_type": "code",
        "colab": {}
      },
      "source": [
        ""
      ],
      "execution_count": null,
      "outputs": []
    },
    {
      "cell_type": "code",
      "metadata": {
        "id": "XXfgU2cSXlQV",
        "colab_type": "code",
        "colab": {}
      },
      "source": [
        "def cerebrum_brain(df):\n",
        "  cerebrum = df[\"Cerebrum (cm3)\"]#sets the cerebrum col. to the variable cerebrum\n",
        "  brain = df[\"Brain Volume (cm3)\"]#sets the brain V col. to the variable brain\n",
        "  cereBrainRatio = cerebrum/brain #finds the ratio of cerebrum to brain\n",
        "  return cereBrainRatio.mean() #finds the average of the ratios"
      ],
      "execution_count": null,
      "outputs": []
    },
    {
      "cell_type": "code",
      "metadata": {
        "id": "hnUvYsaWZS1C",
        "colab_type": "code",
        "colab": {
          "base_uri": "https://localhost:8080/",
          "height": 35
        },
        "outputId": "960fa687-a2db-41bb-a6cd-2ab2c79c72a5"
      },
      "source": [
        "bird_cere_brain = cerebrum_brain(df_bird)\n",
        "print(bird_cere_brain)"
      ],
      "execution_count": null,
      "outputs": [
        {
          "output_type": "stream",
          "text": [
            "0.6649507745281171\n"
          ],
          "name": "stdout"
        }
      ]
    },
    {
      "cell_type": "code",
      "metadata": {
        "id": "Hhw5lFLlZdTJ",
        "colab_type": "code",
        "colab": {
          "base_uri": "https://localhost:8080/",
          "height": 35
        },
        "outputId": "3c8d3555-7340-4a14-e75b-2e489c7db6b3"
      },
      "source": [
        "dino_cere_brain = cerebrum_brain(df_dino)\n",
        "print(dino_cere_brain)"
      ],
      "execution_count": null,
      "outputs": [
        {
          "output_type": "stream",
          "text": [
            "0.4695339305450895\n"
          ],
          "name": "stdout"
        }
      ]
    },
    {
      "cell_type": "code",
      "metadata": {
        "id": "PIXkL7lGdC80",
        "colab_type": "code",
        "colab": {}
      },
      "source": [
        ""
      ],
      "execution_count": null,
      "outputs": []
    },
    {
      "cell_type": "code",
      "metadata": {
        "id": "xwep1MDKZ3_X",
        "colab_type": "code",
        "colab": {}
      },
      "source": [
        "def prediction(femur, brainV, cerebrumW, wholeBrainW):\n",
        "  bodymass = 10**(3.1854*np.log10(femur)-3.184)/1000 #calculates the body mass using the femur\n",
        "  brainBodyRatio = (brainV/bodymass)/1000 #calculate brain to body ratio \n",
        "  cerebrumBrainRatio = cerebrumW/wholeBrainW #calculate cerebrum to brain ratio\n",
        "  diff_BBratio_bird = (brainBodyRatio - bird_brain_body)#finds difference in both brain/body ratios (bird)\n",
        "  diff_CBratio_bird = (cerebrumBrainRatio - bird_cere_brain)#finds difference in both cerebrum/brain ratios (bird)\n",
        "  diff_BBratio_dino = (brainBodyRatio - dino_brain_body) #same as the line above but for dino ratio\n",
        "  diff_CBratio_dino = (cerebrumBrainRatio - dino_cere_brain) #same as the line above but for dino ratio  \n",
        "  if diff_BBratio_bird < diff_BBratio_dino: #if the bird ratio difference is smaller, it is a bird   \n",
        "    result = \"bird\"\n",
        "  elif diff_BBratio_dino < diff_BBratio_bird:\n",
        "    result = \"dino\"\n",
        "  if diff_CBratio_bird < diff_CBratio_dino:\n",
        "    result2 = \"bird\"\n",
        "  elif diff_CBratio_dino < diff_CBratio_bird: #if the dino ratio difference is smaller, it is a dino\n",
        "    result2 = \"dino\"\n",
        "  return result, result2"
      ],
      "execution_count": null,
      "outputs": []
    },
    {
      "cell_type": "code",
      "metadata": {
        "id": "m-xxvgmanuAf",
        "colab_type": "code",
        "colab": {
          "base_uri": "https://localhost:8080/",
          "height": 35
        },
        "outputId": "d16f32f2-cd33-48d6-ec36-544b73201674"
      },
      "source": [
        "prediction(70, 1.44, 0.6, 1.44)"
      ],
      "execution_count": null,
      "outputs": [
        {
          "output_type": "execute_result",
          "data": {
            "text/plain": [
              "('bird', 'bird')"
            ]
          },
          "metadata": {
            "tags": []
          },
          "execution_count": 22
        }
      ]
    },
    {
      "cell_type": "code",
      "metadata": {
        "id": "1pl7MdkYPktR",
        "colab_type": "code",
        "colab": {
          "base_uri": "https://localhost:8080/",
          "height": 35
        },
        "outputId": "9d9cb3bd-b05f-4766-abd1-9c3aeb5f54ca"
      },
      "source": [
        "bodymass = 10**(3.1854*np.log10(70)-3.184)/1000 #calculates the body mass using the femur\n",
        "brainBodyRatio = (1.44/bodymass)/1000 #calculate brain to body ratio\n",
        "print(brainBodyRatio) "
      ],
      "execution_count": null,
      "outputs": [
        {
          "output_type": "stream",
          "text": [
            "0.0029173409990088228\n"
          ],
          "name": "stdout"
        }
      ]
    },
    {
      "cell_type": "code",
      "metadata": {
        "id": "2Nudi90wQ4aX",
        "colab_type": "code",
        "colab": {}
      },
      "source": [
        "import matplotlib.pyplot as plt\n"
      ],
      "execution_count": null,
      "outputs": []
    },
    {
      "cell_type": "code",
      "metadata": {
        "id": "FDfzCJ61IjCJ",
        "colab_type": "code",
        "colab": {
          "base_uri": "https://localhost:8080/",
          "height": 295
        },
        "outputId": "8da56347-26d7-4d70-9f10-31a694efa865"
      },
      "source": [
        "plt.bar([1,2,3],[bird_brain_body, dino_brain_body, brainBodyRatio], color =[\"blue\", \"pink\",\"purple\"])#allows us to create colored bars\n",
        "plt.xticks([1,2,3],[\"Modern Bird\" , \"Non Avian Dino\",  \"archaeopteryx lithographica\"])#names the bar\n",
        "plt.xlabel(\"Animal Brain\")#x label\n",
        "plt.ylabel(\"Brain to body ratio\")#y label\n",
        "plt.title(\"Comparing Mystery brain with bird and dino\")#title\n",
        "plt.scatter([],[], color = \"blue\", label = \"0.047832283820074345\")#allows us to color cooridinate the legend with the labels\n",
        "plt.scatter([],[], color = \"pink\", label = \"0.0016106496539985663\")#allows us to color cooridinate the legend with the labels\n",
        "plt.scatter([],[], color = \"purple\", label = \"0.0029173409990088228\")#allows us to color cooridinate the legend with the labels\n",
        "plt.legend(bbox_to_anchor=[1.0,1.0])#moves the lengend box\n",
        "plt.show()"
      ],
      "execution_count": null,
      "outputs": [
        {
          "output_type": "display_data",
          "data": {
            "image/png": "[encoded data removed]",
            "text/plain": [
              "<Figure size 432x288 with 1 Axes>"
            ]
          },
          "metadata": {
            "tags": [],
            "needs_background": "light"
          }
        }
      ]
    },
    {
      "cell_type": "code",
      "metadata": {
        "id": "kBJ5lSvkQjVj",
        "colab_type": "code",
        "colab": {
          "base_uri": "https://localhost:8080/",
          "height": 55
        },
        "outputId": "44b2f3eb-ec91-48e8-f0b5-6c600c9b1f89"
      },
      "source": [
        "from google.colab import drive\n",
        "drive.mount('/content/drive')"
      ],
      "execution_count": null,
      "outputs": [
        {
          "output_type": "stream",
          "text": [
            "Drive already mounted at /content/drive; to attempt to forcibly remount, call drive.mount(\"/content/drive\", force_remount=True).\n"
          ],
          "name": "stdout"
        }
      ]
    }
  ]
}