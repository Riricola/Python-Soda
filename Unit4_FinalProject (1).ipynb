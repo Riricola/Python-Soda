{
  "nbformat": 4,
  "nbformat_minor": 0,
  "metadata": {
    "kernelspec": {
      "display_name": "Python 3",
      "language": "python",
      "name": "python3"
    },
    "language_info": {
      "codemirror_mode": {
        "name": "ipython",
        "version": 3
      },
      "file_extension": ".py",
      "mimetype": "text/x-python",
      "name": "python",
      "nbconvert_exporter": "python",
      "pygments_lexer": "ipython3",
      "version": "3.7.6"
    },
    "colab": {
      "name": "Unit4_FinalProject.ipynb",
      "provenance": [],
      "collapsed_sections": []
    }
  },
  "cells": [
    {
      "cell_type": "markdown",
      "metadata": {
        "id": "D6tnxewjK42u",
        "colab_type": "text"
      },
      "source": [
        "# Unit 4 Final Projects: Calculating evolutionary distance\n",
        "\n",
        "In this notebook you will compare the sequence of a particular gene from 3 different species to find out which two are most closely related. \n",
        "\n",
        "You will need to do the following:\n",
        "1. Open and read in your files\n",
        "2. Decide which sequences to compare (DNA, RNA, or protein), (you may have to look at all of them)\n",
        "3. Write code that prints out the percent similarity of each pair of sequences\n",
        "\n",
        " "
      ]
    },
    {
      "cell_type": "code",
      "metadata": {
        "id": "sL95NPYxLIqJ",
        "colab_type": "code",
        "colab": {
          "base_uri": "https://localhost:8080/",
          "height": 35
        },
        "outputId": "96f7833a-3347-43ec-9f1e-2a3dae5cde62"
      },
      "source": [
        "from google.colab import drive\n",
        "drive.mount('/content/drive')"
      ],
      "execution_count": null,
      "outputs": [
        {
          "output_type": "stream",
          "text": [
            "Mounted at /content/drive\n"
          ],
          "name": "stdout"
        }
      ]
    },
    {
      "cell_type": "code",
      "metadata": {
        "id": "N9N_xp-LK42v",
        "colab_type": "code",
        "colab": {}
      },
      "source": [
        "hornedSheep = open(\"/content/drive/My Drive/5a_mito_DNA.txt\").read()\n",
        "peccary = open(\"/content/drive/My Drive/5b_mito_DNA.txt\").read()\n",
        "badger = open(\"/content/drive/My Drive/5c_mito_DNA.txt\").read()"
      ],
      "execution_count": null,
      "outputs": []
    },
    {
      "cell_type": "code",
      "metadata": {
        "id": "564-cpA1Sk0x",
        "colab_type": "code",
        "colab": {}
      },
      "source": [
        "#multiply similarities by 100 and divide by the shortest sequence\n",
        "#find length of shorter sequence "
      ],
      "execution_count": null,
      "outputs": []
    },
    {
      "cell_type": "code",
      "metadata": {
        "id": "iE9RCs2CK420",
        "colab_type": "code",
        "colab": {
          "base_uri": "https://localhost:8080/",
          "height": 69
        },
        "outputId": "f5b64785-c4e5-4e7b-dbee-61eb429132f0"
      },
      "source": [
        "similarAB = 0\n",
        "similarBC = 0\n",
        "similarCA = 0\n",
        "\n",
        "for c, i in enumerate(peccary):\n",
        "  if hornedSheep[c] == i:\n",
        "    similarAB += 1\n",
        "\n",
        "for c, i in enumerate(peccary):\n",
        "  if badger[c] == i:\n",
        "    similarBC += 1\n",
        "\n",
        "for c, i in enumerate(hornedSheep):\n",
        "  if badger[c] == i:\n",
        "    similarCA += 1\n",
        "\n",
        "print(similarAB)\n",
        "print(similarBC)\n",
        "print(similarCA)\n"
      ],
      "execution_count": null,
      "outputs": [
        {
          "output_type": "stream",
          "text": [
            "557\n",
            "380\n",
            "310\n"
          ],
          "name": "stdout"
        }
      ]
    },
    {
      "cell_type": "code",
      "metadata": {
        "id": "oHw86l2PNLAK",
        "colab_type": "code",
        "colab": {
          "base_uri": "https://localhost:8080/",
          "height": 69
        },
        "outputId": "0cbc7e01-8544-4bcf-89ca-e1ad4f2ba233"
      },
      "source": [
        "print((similarAB*100)/len(peccary))\n",
        "print((similarBC*100)/len(peccary))\n",
        "print((similarCA*100)/len(hornedSheep))"
      ],
      "execution_count": null,
      "outputs": [
        {
          "output_type": "stream",
          "text": [
            "53.76447876447877\n",
            "36.67953667953668\n",
            "29.750479846449135\n"
          ],
          "name": "stdout"
        }
      ]
    },
    {
      "cell_type": "code",
      "metadata": {
        "id": "uJpGeOENS3p2",
        "colab_type": "code",
        "colab": {}
      },
      "source": [
        "aminoAcid = {\"UUU\":\"F\", \"UUC\":\"F\", \"UUA\":\"L\", \"UUG\":\"L\", \"CUU\":\"L\", \"CUC\":\"L\", \"CUA\":\"L\", \"CUG\":\"L\", \"AUU\":\"I\", \"AUC\":\"I\", \"AUA\":\"I\", \"AUG\":\"M\", \"GUU\":\"V\", \"GUC\":\"V\", \"GUA\":\"V\", \"GUG\":\"V\", \"UCU\":\"S\", \"UCC\":\"S\", \"UCA\":\"S\", \"UCG\":\"S\", \"CCU\":\"P\", \"CCC\":\"P\", \"CCA\":\"P\", \"CCG\":\"P\", \"ACU\":\"T\", \"ACC\":\"T\", \"ACA\":\"T\", \"ACG\":\"T\", \"GCU\":\"A\", \"GCC\":\"A\", \"GCA\":\"A\", \"GCG\":\"A\", \"UAU\":\"Y\", \"UAC\":\"Y\", \"UAA\":\"STOP\", \"UAG\":\"STOP\", \"CAU\":\"H\", \"CAC\":\"H\", \"CAA\":\"Q\", \"CAG\":\"Q\", \"AAU\":\"N\", \"AAC\":\"N\", \"AAA\":\"K\", \"AAG\":\"K\", \"GAU\":\"D\", \"GAC\":\"D\", \"GAA\":\"E\", \"GAG\":\"E\", \"UGU\":\"C\", \"UGC\":\"C\", \"UGA\":\"STOP\", \"UGG\":\"W\", \"CGU\":\"R\", \"CGC\":\"R\", \"CGA\":\"R\", \"CGG\":\"R\", \"AGU\":\"S\", \"AGC\":\"S\", \"AGA\":\"R\", \"AGG\":\"R\", \"GGU\":\"G\", \"GGC\":\"G\", \"GGA\":\"G\", \"GGG\":\"G\"}"
      ],
      "execution_count": null,
      "outputs": []
    },
    {
      "cell_type": "code",
      "metadata": {
        "id": "DiITl_unMtKe",
        "colab_type": "code",
        "colab": {
          "base_uri": "https://localhost:8080/",
          "height": 89
        },
        "outputId": "fed6aa8b-f55a-4f86-a947-7c9ea110211b"
      },
      "source": [
        "aminoA = \"\" #where the new values will go when translating RNA sequence to protein\n",
        "aminoB = \"\"\n",
        "aminoC = \"\"\n",
        "codon = \"\"\n",
        "\n",
        "\n",
        "for i in rnaA:\n",
        "  if len(codon) == 3:\n",
        "    aminoA += aminoAcid[codon] #we access the dictionary using the codon key\n",
        "    codon = \"\" #empty out the codon holder\n",
        "    codon += i #makes sure we don't skip the character in the current iteration\n",
        "\n",
        "  else:\n",
        "    codon += i #if its not 3, add another character until it IS 3\n",
        "\n",
        "for i in rnaB:\n",
        "  if len(codon) == 3:\n",
        "    aminoB += aminoAcid[codon] #we access the dictionary using the codon key\n",
        "    codon = \"\" #empty out the codon holder\n",
        "    codon += i #makes sure we don't skip the character in the current iteration\n",
        "\n",
        "  else:\n",
        "    codon += i #if its not 3, add another character until it IS 3\n",
        "\n",
        "for i in rnaC:\n",
        "  if len(codon) == 3:\n",
        "    aminoC += aminoAcid[codon] #we access the dictionary using the codon key\n",
        "    codon = \"\" #empty out the codon holder\n",
        "    codon += i #makes sure we don't skip the character in the current iteration\n",
        "\n",
        "  else:\n",
        "    codon += i #if its not 3, add another character until it IS 3\n",
        "\n",
        "print(aminoA)\n",
        "print(aminoB)\n",
        "print(aminoC)"
      ],
      "execution_count": null,
      "outputs": [
        {
          "output_type": "stream",
          "text": [
            "QLHRISTOPISFRDFYGSAQMTEVLVYPNQGRKDNSTOPKLSEYVRSSTOPVRGHSLREVSTOPCVLIFLVHSSCVGTSSVAERIGVGVPSVVIVFNSVFAFKLIRYNSTOPSQPFRARSVAPVCSTOPLGSIVLMPHFAQFRGIVYLNLKLISTOPHFSVLISFLFTTFIGILSTMSTOPYRFWVSTOPPSTOPSMGSTOPYESGFVFINIFVLISGLMMAVVGLSTOPVSSTOPTATKYGKISSDKILAIWGYLEWLGTIMSDIWRSTOPKSFGIFSLFSFELLLCISAIQFHIGYLTLLYPMSTOPKMSSFKLCFRSTOPYFNYRFPPKSSFDSYLTNQLNPVLRACVAGSGRSSFILYEFGSTOPIYNWYALLCSALFHSYDLSHEPVWFYIEL\n",
            "AITSNLFISFRDFYESTHFGEVFVCPNQDRKGKSTOPKSFSTOPCVRSSTOPAWGHSYGRFRISNFPRPSTOPFVWGTIECCGTSWCGGALCRHYLSTOPFDTCFQTDSISTOPFISTIYSTVGGASMLIGFIYLSAAFLTDSFLGVISVSTOPSSTOPFGIFRYRLFVYLMLPSRLSTOPRLCAIDPGFDPNLWGDTDRDLDLLAGCSNKRSHDDRCRILSFLNCHEVSTOPVDLLGQDISYLGLFGVVGNGLVGYMAVEVVWDFSLLSFVLILDIFAIQFHIGYPTLLYPMSTOPKIYSYECFSTOPEYFDSSTOPFPPKSSFNSYLTNSTOPLIPVFRACVAGSGRSSFASYVLDNVCFGVFSSVQHCSIRMTFHTNLMVSYRI\n",
            "YNHIEYLHFVPSTOPLLRIFSVFSTOPGVCISKPGSEGSTOPSIIVLMCTFKGVGSLLREISTOPRFTNFPRPSTOPFVSTOPFVHRVLWNELVWGCPMSSLFLIRYLLSNSTOPFSTIVISTISTOPSTVGGASMLIGFNYPGAAFCTIPVVLSTOPFQFSTOPIDPAFFDGGCILYGAFTEIIKAVVLSTLGLTLIYGVIRVGICIYSTOPGCCFNRRSPDDRYRILSFLNRHEISTOPGDLLGQDISYLGLFGVVKIDLVKYMAVAVVWEFSFFSFVLLSTOPCIFSIQFHIGYFTLLYPMSTOPKIGSDYGCFQIYFGCLISTSTOPIIISTOPFLSLELTYPGTSCVCGGQWEEFVVWFCNVLCFVWLRSPLFSIVPFVSTOPPFTRTYLVSHRI\n"
          ],
          "name": "stdout"
        }
      ]
    },
    {
      "cell_type": "code",
      "metadata": {
        "id": "Sl3LPGBHm_KA",
        "colab_type": "code",
        "colab": {}
      },
      "source": [
        "#QLHRISTOPISFRDFYGSAQMTEVLVYPNQGRKDNSTOPKLSEYVRSSTOPVRGHSLREVSTOPCVLIFLVHSSCVGTSSVAERIGVGVPSVVIVFNSVFAFKLIRYNSTOPSQPFRARSVAPVCSTOPLGSIVLMPHFAQFRGIVYLNLKLISTOPHFSVLISFLFTTFIGILSTMSTOPYRFWVSTOPPSTOPSMGSTOPYESGFVFINIFVLISGLMMAVVGLSTOPVSSTOPTATKYGKISSDKILAIWGYLEWLGTIMSDIWRSTOPKSFGIFSLFSFELLLCISAIQFHIGYLTLLYPMSTOPKMSSFKLCFRSTOPYFNYRFPPKSSFDSYLTNQLNPVLRACVAGSGRSSFILYEFGSTOPIYNWYALLCSALFHSYDLSHEPVWFYIEL\n",
        "#AITSNLFISFRDFYESTHFGEVFVCPNQDRKGKSTOPKSFSTOPCVRSSTOPAWGHSYGRFRISNFPRPSTOPFVWGTIECCGTSWCGGALCRHYLSTOPFDTCFQTDSISTOPFISTIYSTVGGASMLIGFIYLSAAFLTDSFLGVISVSTOPSSTOPFGIFRYRLFVYLMLPSRLSTOPRLCAIDPGFDPNLWGDTDRDLDLLAGCSNKRSHDDRCRILSFLNCHEVSTOPVDLLGQDISYLGLFGVVGNGLVGYMAVEVVWDFSLLSFVLILDIFAIQFHIGYPTLLYPMSTOPKIYSYECFSTOPEYFDSSTOPFPPKSSFNSYLTNSTOPLIPVFRACVAGSGRSSFASYVLDNVCFGVFSSVQHCSIRMTFHTNLMVSYRI\n",
        "#YNHIEYLHFVPSTOPLLRIFSVFSTOPGVCISKPGSEGSTOPSIIVLMCTFKGVGSLLREISTOPRFTNFPRPSTOPFVSTOPFVHRVLWNELVWGCPMSSLFLIRYLLSNSTOPFSTIVISTISTOPSTVGGASMLIGFNYPGAAFCTIPVVLSTOPFQFSTOPIDPAFFDGGCILYGAFTEIIKAVVLSTLGLTLIYGVIRVGICIYSTOPGCCFNRRSPDDRYRILSFLNRHEISTOPGDLLGQDISYLGLFGVVKIDLVKYMAVAVVWEFSFFSFVLLSTOPCIFSIQFHIGYFTLLYPMSTOPKIGSDYGCFQIYFGCLISTSTOPIIISTOPFLSLELTYPGTSCVCGGQWEEFVVWFCNVLCFVWLRSPLFSIVPFVSTOPPFTRTYLVSHRI"
      ],
      "execution_count": null,
      "outputs": []
    },
    {
      "cell_type": "code",
      "metadata": {
        "id": "2MILLfK2K427",
        "colab_type": "code",
        "colab": {
          "base_uri": "https://localhost:8080/",
          "height": 69
        },
        "outputId": "66fd4dfd-a9b3-4363-fbec-be04f3e55c74"
      },
      "source": [
        "similarPro_AB = 0\n",
        "similarPro_BC = 0\n",
        "similarPro_CA = 0\n",
        "\n",
        "for c, i in enumerate(aminoB):\n",
        "  if aminoA[c] == i:\n",
        "    similarPro_AB += 1\n",
        "\n",
        "for c, i in enumerate(aminoB):\n",
        "  if aminoC[c] == i:\n",
        "    similarPro_BC += 1\n",
        "\n",
        "for c, i in enumerate(aminoA): #had to switch the one enumerated \n",
        "  if aminoC[c] == i:\n",
        "    similarPro_CA += 1\n",
        "\n",
        "print(similarPro_AB)    \n",
        "print(similarPro_BC)\n",
        "print(similarPro_CA)"
      ],
      "execution_count": null,
      "outputs": [
        {
          "output_type": "stream",
          "text": [
            "30\n",
            "26\n",
            "28\n"
          ],
          "name": "stdout"
        }
      ]
    },
    {
      "cell_type": "code",
      "metadata": {
        "id": "C00pmGf1lhgy",
        "colab_type": "code",
        "colab": {
          "base_uri": "https://localhost:8080/",
          "height": 121
        },
        "outputId": "820ed1b0-4a61-4e21-f37c-a011e4fd81c1"
      },
      "source": [
        "print(len(aminoA))\n",
        "print(len(aminoB))\n",
        "print(len(aminoC))\n",
        "\n",
        "print((30*100)/ 398)\n",
        "print((26*100)/ 387)\n",
        "print((28*100)/ 400)"
      ],
      "execution_count": null,
      "outputs": [
        {
          "output_type": "stream",
          "text": [
            "398\n",
            "387\n",
            "400\n",
            "7.5376884422110555\n",
            "6.718346253229974\n",
            "7.0\n"
          ],
          "name": "stdout"
        }
      ]
    },
    {
      "cell_type": "markdown",
      "metadata": {
        "id": "xBMME3sHK42_",
        "colab_type": "text"
      },
      "source": [
        "## Bonus Challenge\n",
        "\n",
        "Visualize your results! Choose a graph type that you think will communicate your conclusions effectively and create it using matplotlib:"
      ]
    },
    {
      "cell_type": "code",
      "metadata": {
        "id": "2HJSvYQUK43A",
        "colab_type": "code",
        "colab": {}
      },
      "source": [
        "#bar graph with two bars \n",
        "import matplotlib.pyplot as plt\n"
      ],
      "execution_count": null,
      "outputs": []
    },
    {
      "cell_type": "code",
      "metadata": {
        "id": "fpoT45bsX12J",
        "colab_type": "code",
        "colab": {
          "base_uri": "https://localhost:8080/",
          "height": 264
        },
        "outputId": "45c3f409-8240-494a-de16-9f8bf6053ee0"
      },
      "source": [
        "labels = [\"Different DNA\", \"Similar DNA\"] #list of labels\n",
        "sizesAB = [479, 557] #size of each slice of the pie\n",
        "\n",
        "explode = (0, 0.1) #tells the code to make the second value (557) pop out\n",
        "\n",
        "plt.pie(sizesAB, explode=explode, labels=labels, autopct = \"%1.1f%%\")\n",
        "plt.title(\"Comparison of DNA in Horned Sheep and Peccaries\")\n",
        "plt.show()"
      ],
      "execution_count": null,
      "outputs": [
        {
          "output_type": "display_data",
          "data": {
            "image/png": "[encoded data removed]",
            "text/plain": [
              "<Figure size 432x288 with 1 Axes>"
            ]
          },
          "metadata": {
            "tags": []
          }
        }
      ]
    },
    {
      "cell_type": "code",
      "metadata": {
        "id": "ve_oMDot8qHD",
        "colab_type": "code",
        "colab": {
          "base_uri": "https://localhost:8080/",
          "height": 264
        },
        "outputId": "f710ce04-6ecb-45f6-9df9-19fdd4a8205b"
      },
      "source": [
        "sizesBC = [656, 380] #size of each slice of the pie\n",
        "\n",
        "plt.pie(sizesBC, explode=explode, labels=labels, autopct = \"%1.1f%%\")\n",
        "plt.title(\"Comparison of DNA in Badgers and Peccaries\")\n",
        "plt.show()"
      ],
      "execution_count": null,
      "outputs": [
        {
          "output_type": "display_data",
          "data": {
            "image/png": "[encoded data removed]",
            "text/plain": [
              "<Figure size 432x288 with 1 Axes>"
            ]
          },
          "metadata": {
            "tags": []
          }
        }
      ]
    },
    {
      "cell_type": "code",
      "metadata": {
        "id": "dQb_wUsW8qjA",
        "colab_type": "code",
        "colab": {
          "base_uri": "https://localhost:8080/",
          "height": 264
        },
        "outputId": "6078dbfc-d1ef-4aff-970f-3f5574e55e27"
      },
      "source": [
        "sizesCA = [732, 310] #size of each slice of the pie\n",
        "\n",
        "plt.pie(sizesCA, explode=explode, labels=labels, autopct = \"%1.1f%%\")\n",
        "plt.title(\"Comparison of DNA in Horned Sheep and Badgers\")\n",
        "plt.show()"
      ],
      "execution_count": null,
      "outputs": [
        {
          "output_type": "display_data",
          "data": {
            "image/png": "[encoded data removed]",
            "text/plain": [
              "<Figure size 432x288 with 1 Axes>"
            ]
          },
          "metadata": {
            "tags": []
          }
        }
      ]
    },
    {
      "cell_type": "markdown",
      "metadata": {
        "id": "RtgNphK0K43F",
        "colab_type": "text"
      },
      "source": [
        "## Bonus Challenge 2\n",
        "If you finish your project and want to try a challenge, come up with a hypothesis about which of the following species are most closely related to humans (carp, chicken, chimp, dog, eel, elephant, frog, gorilla, macaque monkey, mouse, orangutan, pig). Write out a ranked list with the species you think is most related to humans at the top.\n",
        "\n",
        "Then calculate the percent difference between the hemoglobin amino acid sequences of humans and each species to find out how close you came to the right ranking!"
      ]
    },
    {
      "cell_type": "code",
      "metadata": {
        "id": "IlG4djcVK43G",
        "colab_type": "code",
        "colab": {}
      },
      "source": [
        ""
      ],
      "execution_count": null,
      "outputs": []
    }
  ]
}